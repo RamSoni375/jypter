{
  "metadata": {
    "kernelspec": {
      "name": "python",
      "display_name": "Python (Pyodide)",
      "language": "python"
    },
    "language_info": {
      "codemirror_mode": {
        "name": "python",
        "version": 3
      },
      "file_extension": ".py",
      "mimetype": "text/x-python",
      "name": "python",
      "nbconvert_exporter": "python",
      "pygments_lexer": "ipython3",
      "version": "3.8"
    }
  },
  "nbformat_minor": 5,
  "nbformat": 4,
  "cells": [
    {
      "id": "cfc1fb25-f055-4d58-a948-3f3183a0bc72",
      "cell_type": "code",
      "source": "import math\nimport statistics\nimport numpy as np\nimport scipy.stats\nimport pandas as pd",
      "metadata": {
        "trusted": true
      },
      "outputs": [],
      "execution_count": 3
    },
    {
      "id": "c3384a71-2530-4f6a-917a-6604d8143000",
      "cell_type": "code",
      "source": "import math\nx = [8.0, 1, 2.5, 4, 28.0]\ny = [8.0, 1, 2.5, math.nan, 4, 28.0]\nx\n",
      "metadata": {
        "trusted": true
      },
      "outputs": [
        {
          "execution_count": 4,
          "output_type": "execute_result",
          "data": {
            "text/plain": "[8.0, 1, 2.5, 4, 28.0]"
          },
          "metadata": {}
        }
      ],
      "execution_count": 4
    },
    {
      "id": "d6ccef5c-578d-46e5-a330-c5b2d2d8ce2b",
      "cell_type": "code",
      "source": "import pandas as pd\np, p = np.array(x), np.array(x)\nz, z = pd.Series(x), pd.Series(x)\ny",
      "metadata": {
        "trusted": true
      },
      "outputs": [
        {
          "execution_count": 27,
          "output_type": "execute_result",
          "data": {
            "text/plain": "[8.0, 1, 2.5, nan, 4, 28.0]"
          },
          "metadata": {}
        }
      ],
      "execution_count": 27
    },
    {
      "id": "3b22b12a-ee25-4114-9ed4-59e16dcac9de",
      "cell_type": "code",
      "source": "mean_ = sum(x) / len(x)\nmean_",
      "metadata": {
        "trusted": true
      },
      "outputs": [
        {
          "execution_count": 9,
          "output_type": "execute_result",
          "data": {
            "text/plain": "8.7"
          },
          "metadata": {}
        }
      ],
      "execution_count": 9
    },
    {
      "id": "dcaae26e-dbb3-42b0-951b-36042c861989",
      "cell_type": "code",
      "source": "import statistics\nmean = statistics.mean(x)\nmean",
      "metadata": {
        "trusted": true
      },
      "outputs": [
        {
          "execution_count": 12,
          "output_type": "execute_result",
          "data": {
            "text/plain": "8.7"
          },
          "metadata": {}
        }
      ],
      "execution_count": 12
    },
    {
      "id": "7a4470a6-fbce-4a25-bef7-2f9dcc8a05e8",
      "cell_type": "code",
      "source": "import statistics\nmean = statistics.fmean(x)\nmean",
      "metadata": {
        "trusted": true
      },
      "outputs": [
        {
          "execution_count": 13,
          "output_type": "execute_result",
          "data": {
            "text/plain": "8.7"
          },
          "metadata": {}
        }
      ],
      "execution_count": 13
    },
    {
      "id": "2b9ee847-43e5-4459-a92f-df9392f8b1af",
      "cell_type": "code",
      "source": "import statistics\nmean = statistics.mean(y)\nmean",
      "metadata": {
        "trusted": true
      },
      "outputs": [
        {
          "execution_count": 14,
          "output_type": "execute_result",
          "data": {
            "text/plain": "nan"
          },
          "metadata": {}
        }
      ],
      "execution_count": 14
    },
    {
      "id": "70649b70-ec3b-4069-84d0-fdcb3b3590c4",
      "cell_type": "code",
      "source": "import statistics\nmean = statistics.fmean(y)\nmean",
      "metadata": {
        "trusted": true
      },
      "outputs": [
        {
          "execution_count": 15,
          "output_type": "execute_result",
          "data": {
            "text/plain": "nan"
          },
          "metadata": {}
        }
      ],
      "execution_count": 15
    },
    {
      "id": "25fdcf4d-daa1-4679-adf7-0d5de7bc0018",
      "cell_type": "code",
      "source": "import numpy as np\nmath.isnan(np.nan), np.isnan(math.nan)",
      "metadata": {
        "trusted": true
      },
      "outputs": [
        {
          "execution_count": 18,
          "output_type": "execute_result",
          "data": {
            "text/plain": "(True, True)"
          },
          "metadata": {}
        }
      ],
      "execution_count": 18
    },
    {
      "id": "188a3915-d107-4a20-9c0e-fa1281bc23b3",
      "cell_type": "code",
      "source": "",
      "metadata": {
        "trusted": true
      },
      "outputs": [
        {
          "execution_count": 25,
          "output_type": "execute_result",
          "data": {
            "text/plain": "[8.0, 1, 2.5, nan, 4, 28.0]"
          },
          "metadata": {}
        }
      ],
      "execution_count": 25
    },
    {
      "id": "6e318590-95b9-4630-9872-8613fe668b89",
      "cell_type": "code",
      "source": "import numpy as np \nmean = np.mean(x)\nmean ",
      "metadata": {
        "trusted": true
      },
      "outputs": [
        {
          "execution_count": 29,
          "output_type": "execute_result",
          "data": {
            "text/plain": "8.7"
          },
          "metadata": {}
        }
      ],
      "execution_count": 29
    },
    {
      "id": "82e0e6ca-ca13-4f3d-aef9-44120c49e416",
      "cell_type": "code",
      "source": "import numpy as np\nmean=np.mean(y)\nmean\n",
      "metadata": {
        "trusted": true
      },
      "outputs": [
        {
          "execution_count": 36,
          "output_type": "execute_result",
          "data": {
            "text/plain": "nan"
          },
          "metadata": {}
        }
      ],
      "execution_count": 36
    },
    {
      "id": "4abf4be4-4511-47e7-b222-735fc5bc3702",
      "cell_type": "code",
      "source": "import numpy as np \nnp.mean (y)\n",
      "metadata": {
        "trusted": true
      },
      "outputs": [
        {
          "execution_count": 38,
          "output_type": "execute_result",
          "data": {
            "text/plain": "nan"
          },
          "metadata": {}
        }
      ],
      "execution_count": 38
    },
    {
      "id": "f19532b2-de7d-48b4-a091-2982b6cac929",
      "cell_type": "code",
      "source": "import numpy as np \nnp.nanmean(y)\n\n",
      "metadata": {
        "trusted": true
      },
      "outputs": [
        {
          "execution_count": 40,
          "output_type": "execute_result",
          "data": {
            "text/plain": "8.7"
          },
          "metadata": {}
        }
      ],
      "execution_count": 40
    },
    {
      "id": "4456d3e0-1b3c-43b2-bcdc-24a9b43850dd",
      "cell_type": "code",
      "source": "mean=z.mean()\nmean",
      "metadata": {
        "trusted": true
      },
      "outputs": [
        {
          "execution_count": 41,
          "output_type": "execute_result",
          "data": {
            "text/plain": "8.7"
          },
          "metadata": {}
        }
      ],
      "execution_count": 41
    },
    {
      "id": "758e43bb-abec-4078-8367-b1019a48b3d5",
      "cell_type": "code",
      "source": "2*4",
      "metadata": {
        "trusted": true
      },
      "outputs": [
        {
          "execution_count": 1,
          "output_type": "execute_result",
          "data": {
            "text/plain": "8"
          },
          "metadata": {}
        }
      ],
      "execution_count": 1
    },
    {
      "id": "12215b7b-f743-4391-8449-9f99e0de37bc",
      "cell_type": "code",
      "source": "0.2*2+0.5*4+0.3*8",
      "metadata": {
        "trusted": true
      },
      "outputs": [
        {
          "execution_count": 2,
          "output_type": "execute_result",
          "data": {
            "text/plain": "4.8"
          },
          "metadata": {}
        }
      ],
      "execution_count": 2
    },
    {
      "id": "e3e41ca4-e018-464d-be04-77398b9c9c58",
      "cell_type": "code",
      "source": "x = [8.0, 1, 2.5, 4, 28.0]\nw = [0.1, 0.2, 0.3, 0.25, 0.15]\nwmean = sum(w[i] * x[i] for i in range(len(x))) / sum(w)\nwmean",
      "metadata": {
        "trusted": true
      },
      "outputs": [
        {
          "execution_count": 3,
          "output_type": "execute_result",
          "data": {
            "text/plain": "6.95"
          },
          "metadata": {}
        }
      ],
      "execution_count": 3
    },
    {
      "id": "d99247ee-50b2-4e81-a9ff-9d4f35d62929",
      "cell_type": "code",
      "source": "w = np.array ([0.1,0.2,0.3,0.0,0.2,0.1])\n(w).sum()/w.sum()",
      "metadata": {
        "trusted": true
      },
      "outputs": [
        {
          "execution_count": 9,
          "output_type": "execute_result",
          "data": {
            "text/plain": "1.0"
          },
          "metadata": {}
        }
      ],
      "execution_count": 9
    },
    {
      "id": "f22092f1-c177-4113-b837-e0c311ee5647",
      "cell_type": "code",
      "source": "hmean = len(x)/sum(1/item for item in x)\nhmean ",
      "metadata": {
        "trusted": true
      },
      "outputs": [
        {
          "execution_count": 10,
          "output_type": "execute_result",
          "data": {
            "text/plain": "2.7613412228796843"
          },
          "metadata": {}
        }
      ],
      "execution_count": 10
    },
    {
      "id": "9cb61930-7c6f-482f-9f7b-474e3129337e",
      "cell_type": "code",
      "source": "import statistics \nhmean = statistics.harmonic_mean(x)\nhmean",
      "metadata": {
        "trusted": true
      },
      "outputs": [
        {
          "execution_count": 12,
          "output_type": "execute_result",
          "data": {
            "text/plain": "2.7613412228796843"
          },
          "metadata": {}
        }
      ],
      "execution_count": 12
    },
    {
      "id": "f038a355-2893-4393-ac2c-8082a9bbc7a9",
      "cell_type": "code",
      "source": "import scipy.stats\nscipy.stats.hmean(x)",
      "metadata": {
        "trusted": true
      },
      "outputs": [
        {
          "execution_count": 22,
          "output_type": "execute_result",
          "data": {
            "text/plain": "2.7613412228796843"
          },
          "metadata": {}
        }
      ],
      "execution_count": 22
    },
    {
      "id": "a0e7fced-5f17-4a79-bb6b-702882aae1ae",
      "cell_type": "code",
      "source": "gmean = 1\nfor iteam in x:\n    gmean*=iteam \ngmean**=1/len(x)\ngmean",
      "metadata": {
        "trusted": true
      },
      "outputs": [
        {
          "execution_count": 26,
          "output_type": "execute_result",
          "data": {
            "text/plain": "4.677885674856041"
          },
          "metadata": {}
        }
      ],
      "execution_count": 26
    },
    {
      "id": "2eb22d74-3ccf-4a59-af6a-07a92d469379",
      "cell_type": "code",
      "source": "import statistics\ngmean = statistics.geometric_mean(x)\ngmean",
      "metadata": {
        "trusted": true
      },
      "outputs": [
        {
          "execution_count": 30,
          "output_type": "execute_result",
          "data": {
            "text/plain": "4.67788567485604"
          },
          "metadata": {}
        }
      ],
      "execution_count": 30
    },
    {
      "id": "bed3e450-7c94-4f36-a595-df818f6b5563",
      "cell_type": "code",
      "source": "import scipy.stats\nscipy.stats.gmean(x)",
      "metadata": {
        "trusted": true
      },
      "outputs": [
        {
          "execution_count": 31,
          "output_type": "execute_result",
          "data": {
            "text/plain": "4.67788567485604"
          },
          "metadata": {}
        }
      ],
      "execution_count": 31
    },
    {
      "id": "960ec8b1-612e-45f6-bdb6-cfc4f7065cb5",
      "cell_type": "code",
      "source": "n=len(x)\nif n % 2:\n    median = sorted(x)[round(0.5*(n-1))]\nelse:\n    x_ord, index = sorted(x), round (0.5*n)\n    median =0.5*(x_ord[index-1]+x_ord[index])\nmedian",
      "metadata": {
        "trusted": true
      },
      "outputs": [
        {
          "execution_count": 34,
          "output_type": "execute_result",
          "data": {
            "text/plain": "4"
          },
          "metadata": {}
        }
      ],
      "execution_count": 34
    },
    {
      "id": "15270cb8-288f-43f2-8fe0-788d32254635",
      "cell_type": "code",
      "source": "import statistics \nmedian =statistics.median(x)\nmedian",
      "metadata": {
        "trusted": true
      },
      "outputs": [
        {
          "execution_count": 35,
          "output_type": "execute_result",
          "data": {
            "text/plain": "4"
          },
          "metadata": {}
        }
      ],
      "execution_count": 35
    },
    {
      "id": "771aedc2-9a5f-456c-98dc-f84cf315de05",
      "cell_type": "code",
      "source": "import statistics \nmedian =statistics.median(x[:-1])\nmedian",
      "metadata": {
        "trusted": true
      },
      "outputs": [
        {
          "execution_count": 37,
          "output_type": "execute_result",
          "data": {
            "text/plain": "3.25"
          },
          "metadata": {}
        }
      ],
      "execution_count": 37
    },
    {
      "id": "b6efb286-098d-4061-84f5-dafc88c2ef3a",
      "cell_type": "code",
      "source": "import statistics\nstatistics.median_low(x[:-1])",
      "metadata": {
        "trusted": true
      },
      "outputs": [
        {
          "execution_count": 38,
          "output_type": "execute_result",
          "data": {
            "text/plain": "2.5"
          },
          "metadata": {}
        }
      ],
      "execution_count": 38
    },
    {
      "id": "646e2d86-855b-435f-9dd0-b94f84246ff0",
      "cell_type": "code",
      "source": "import statistics \nstatistics.median_high(x[:-1])",
      "metadata": {
        "trusted": true
      },
      "outputs": [
        {
          "execution_count": 40,
          "output_type": "execute_result",
          "data": {
            "text/plain": "4"
          },
          "metadata": {}
        }
      ],
      "execution_count": 40
    },
    {
      "id": "79d47fa8-30e6-44e6-94b0-c3a573890e50",
      "cell_type": "raw",
      "source": "",
      "metadata": {}
    }
  ]
}